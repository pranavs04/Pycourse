{
 "cells": [
  {
   "cell_type": "code",
   "execution_count": 1,
   "metadata": {
    "scrolled": true
   },
   "outputs": [
    {
     "data": {
      "text/plain": [
       "[350.5,\n",
       " 960.7,\n",
       " 1000.0,\n",
       " 5000.0,\n",
       " 4635.8,\n",
       " 9821.3,\n",
       " 758.6,\n",
       " 1234.5,\n",
       " 8200.6,\n",
       " 7777.0,\n",
       " 6742.3,\n",
       " 2500.25,\n",
       " 3647.1,\n",
       " 1500.75,\n",
       " 2650.0,\n",
       " 875.63,\n",
       " 100.0,\n",
       " 10000.0,\n",
       " 4600.0,\n",
       " 3200.0]"
      ]
     },
     "execution_count": 1,
     "metadata": {},
     "output_type": "execute_result"
    }
   ],
   "source": [
    "Depth = [350.5, 960.7, 1000.0, 5000.0, 4635.8, 9821.3, 758.6, 1234.5, 8200.6, 7777.0, 6742.3, 2500.25, 3647.1, 1500.75, 2650.0, 875.63, 100.0, 10000.0, 4600.0, 3200.0]\n",
    "Depth"
   ]
  },
  {
   "cell_type": "code",
   "execution_count": 2,
   "metadata": {},
   "outputs": [
    {
     "name": "stdout",
     "output_type": "stream",
     "text": [
      "[350, 960, 1000, 5000, 4635, 9821, 758, 1234, 8200, 7777, 6742, 2500, 3647, 1500, 2650, 875, 100, 10000, 4600, 3200]\n"
     ]
    }
   ],
   "source": [
    "Depth_int = []\n",
    "for i in Depth:\n",
    "    x=int(i)\n",
    "    Depth_int.append(x)\n",
    "print (Depth_int)"
   ]
  },
  {
   "cell_type": "code",
   "execution_count": 3,
   "metadata": {},
   "outputs": [
    {
     "name": "stdout",
     "output_type": "stream",
     "text": [
      "{'Shallow': [350, 960, 1000, 4635, 758, 1234, 2500, 3647, 1500, 2650, 875, 100, 4600, 3200], 'Deep': [5000, 9821, 8200, 7777, 6742, 10000]}\n",
      "Number of shallow depths = 14\n",
      "Number of shallow depths = 6\n"
     ]
    }
   ],
   "source": [
    "Depthlessthan5k=[i for i in Depth_int if i<5000]\n",
    "Depthgreaterthan5k=[i for i in Depth_int if i>=5000]\n",
    "Depth_dict = dict(Shallow=Depthlessthan5k, Deep=Depthgreaterthan5k)\n",
    "print (Depth_dict)\n",
    "print('Number of shallow depths = ' + str(len(Depth_dict['Shallow'])))\n",
    "print('Number of shallow depths = ' + str(len(Depth_dict['Deep'])))"
   ]
  }
 ],
 "metadata": {
  "kernelspec": {
   "display_name": "Python 3",
   "language": "python",
   "name": "python3"
  },
  "language_info": {
   "codemirror_mode": {
    "name": "ipython",
    "version": 3
   },
   "file_extension": ".py",
   "mimetype": "text/x-python",
   "name": "python",
   "nbconvert_exporter": "python",
   "pygments_lexer": "ipython3",
   "version": "3.8.5"
  }
 },
 "nbformat": 4,
 "nbformat_minor": 4
}
