{
 "cells": [
  {
   "cell_type": "code",
   "execution_count": 1,
   "metadata": {},
   "outputs": [
    {
     "name": "stdout",
     "output_type": "stream",
     "text": [
      "Bbls/Metric ton = 6.988120195667366\n"
     ]
    }
   ],
   "source": [
    "def crude(sg):\n",
    "    api=(141.5/sg)-131.5\n",
    "    BBLSpermetricton= 1.0/(141.5/(api+131.5)*0.159)\n",
    "    print ('Bbls/Metric ton = ' + str(BBLSpermetricton))\n",
    "crude(0.9)"
   ]
  }
 ],
 "metadata": {
  "kernelspec": {
   "display_name": "Python 3",
   "language": "python",
   "name": "python3"
  },
  "language_info": {
   "codemirror_mode": {
    "name": "ipython",
    "version": 3
   },
   "file_extension": ".py",
   "mimetype": "text/x-python",
   "name": "python",
   "nbconvert_exporter": "python",
   "pygments_lexer": "ipython3",
   "version": "3.8.5"
  }
 },
 "nbformat": 4,
 "nbformat_minor": 4
}
